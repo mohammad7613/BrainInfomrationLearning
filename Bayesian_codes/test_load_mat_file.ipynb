{
 "cells": [
  {
   "cell_type": "code",
   "execution_count": 2,
   "metadata": {},
   "outputs": [],
   "source": [
    "import pandas as pd\n",
    "import numpy as np\n",
    "import matplotlib\n",
    "import matplotlib.pyplot as plt\n",
    "import scipy.io as io\n",
    "import os\n",
    "import mne\n",
    "import pickle\n",
    "import itertools"
   ]
  },
  {
   "cell_type": "code",
   "execution_count": 7,
   "metadata": {},
   "outputs": [
    {
     "name": "stdout",
     "output_type": "stream",
     "text": [
      "(75, 1)\n",
      "<class 'numpy.ndarray'>\n"
     ]
    }
   ],
   "source": [
    "\n",
    "c = io.loadmat('/mnt/D/Mastersharif/MasterProject/Surprise/Codes/brainsurprise2/brainsurprise/habituation_codes/collected_index_all_sub.mat')\n",
    "\n",
    "\n",
    "\n",
    "\n",
    "\n",
    "\n",
    "print(c['collected_index_all_sub'].shape)\n",
    "print(type(c['collected_index_all_sub']))"
   ]
  },
  {
   "cell_type": "code",
   "execution_count": 13,
   "metadata": {},
   "outputs": [
    {
     "data": {
      "text/plain": [
       "(1, 63)"
      ]
     },
     "execution_count": 13,
     "metadata": {},
     "output_type": "execute_result"
    }
   ],
   "source": [
    "c['collected_index_all_sub'][14,0].shape"
   ]
  }
 ],
 "metadata": {
  "interpreter": {
   "hash": "4dbf7481e991054104c17e61eb52bd4328dee5ea57af3a8ef865b5839f725976"
  },
  "kernelspec": {
   "display_name": "Python 3.9.7 ('brain')",
   "language": "python",
   "name": "python3"
  },
  "language_info": {
   "codemirror_mode": {
    "name": "ipython",
    "version": 3
   },
   "file_extension": ".py",
   "mimetype": "text/x-python",
   "name": "python",
   "nbconvert_exporter": "python",
   "pygments_lexer": "ipython3",
   "version": "3.9.7"
  },
  "orig_nbformat": 4
 },
 "nbformat": 4,
 "nbformat_minor": 2
}
