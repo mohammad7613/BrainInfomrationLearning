{
 "cells": [
  {
   "cell_type": "code",
   "execution_count": 1,
   "metadata": {},
   "outputs": [],
   "source": [
    "import numpy as np\n",
    "import scipy.io as scio\n",
    "import os \n",
    "from joblib import Parallel, delayed\n",
    "import lzc"
   ]
  },
  {
   "cell_type": "markdown",
   "metadata": {},
   "source": [
    "### Load Data"
   ]
  },
  {
   "cell_type": "code",
   "execution_count": 2,
   "metadata": {},
   "outputs": [],
   "source": [
    "LZC_saved_file_path = 'D:\\Mastersharif\\MasterProject\\Surprise\\Codes\\\\brainsurprise2\\\\brainsurprise\\Results\\LZC\\LZC_over_trials_200_601.mmap'\n",
    "LZC = np.memmap(LZC_saved_file_path,shape=(75,63,200),mode='w+',dtype=float)"
   ]
  },
  {
   "cell_type": "markdown",
   "metadata": {},
   "source": [
    "### Parallel Process"
   ]
  },
  {
   "cell_type": "code",
   "execution_count": null,
   "metadata": {},
   "outputs": [],
   "source": [
    "LoadPath = ''\n",
    "for ch in np.arange(63):\n",
    "    Filename = f'ch{ch+1}.mat'\n",
    "    FilePath = os.path.join(LoadPath,Filename)\n",
    "    Data = scio.loadmat(FilePath)\n",
    "    Data = Data['ch']\n",
    "    def wrapper(sub,trial):\n",
    "        LZC[sub,ch,trial] = lzc.LZC(np.squeeze(Data[sub,trial,:])) \n",
    "    Parallel(n_jobs=8)(delayed(wrapper)(sub,trial) for sub in np.arange(75) for trial in np.arange(200))"
   ]
  },
  {
   "cell_type": "code",
   "execution_count": 3,
   "metadata": {},
   "outputs": [
    {
     "data": {
      "text/plain": [
       "'ch2'"
      ]
     },
     "execution_count": 3,
     "metadata": {},
     "output_type": "execute_result"
    }
   ],
   "source": [
    "ch = 2\n",
    "f'ch{ch}'"
   ]
  }
 ],
 "metadata": {
  "kernelspec": {
   "display_name": "Python 3.9.7 ('neuroscience')",
   "language": "python",
   "name": "python3"
  },
  "language_info": {
   "codemirror_mode": {
    "name": "ipython",
    "version": 3
   },
   "file_extension": ".py",
   "mimetype": "text/x-python",
   "name": "python",
   "nbconvert_exporter": "python",
   "pygments_lexer": "ipython3",
   "version": "3.9.7"
  },
  "orig_nbformat": 4,
  "vscode": {
   "interpreter": {
    "hash": "9b90f58838627ae9536bc45b395542ea55889f7ccf51a116a257daff08c3937e"
   }
  }
 },
 "nbformat": 4,
 "nbformat_minor": 2
}
