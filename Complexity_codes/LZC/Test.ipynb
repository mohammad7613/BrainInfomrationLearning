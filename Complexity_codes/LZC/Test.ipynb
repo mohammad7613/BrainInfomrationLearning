{
 "cells": [
  {
   "cell_type": "code",
   "execution_count": 1,
   "metadata": {},
   "outputs": [
    {
     "data": {
      "text/plain": [
       "False"
      ]
     },
     "execution_count": 1,
     "metadata": {},
     "output_type": "execute_result"
    }
   ],
   "source": [
    "import numpy as np\n",
    "import ComplexityInformationMeasures\n",
    "import scipy.io as scio\n",
    "\n",
    "a = np.array([1,2,1])\n",
    "\n",
    "\n",
    "np.any(np.isnan(a))\n"
   ]
  },
  {
   "cell_type": "code",
   "execution_count": null,
   "metadata": {},
   "outputs": [],
   "source": []
  },
  {
   "cell_type": "code",
   "execution_count": 22,
   "metadata": {},
   "outputs": [
    {
     "name": "stdout",
     "output_type": "stream",
     "text": [
      "0.861654166907052\n"
     ]
    }
   ],
   "source": [
    "\n",
    "\n",
    "signal=np.array([2,3.2,-1,5,0.7,0.8])\n",
    "p=lzc.LZC(signal)\n",
    "print(p)\n"
   ]
  },
  {
   "cell_type": "code",
   "execution_count": 16,
   "metadata": {},
   "outputs": [
    {
     "data": {
      "text/plain": [
       "array([0, 1, 2, 3])"
      ]
     },
     "execution_count": 16,
     "metadata": {},
     "output_type": "execute_result"
    }
   ],
   "source": [
    "a = np.array([1,2,4,4])\n",
    "\n",
    "np.arange(0,4)"
   ]
  },
  {
   "cell_type": "code",
   "execution_count": 5,
   "metadata": {},
   "outputs": [
    {
     "data": {
      "text/plain": [
       "True"
      ]
     },
     "execution_count": 5,
     "metadata": {},
     "output_type": "execute_result"
    }
   ],
   "source": [
    "def BelongToVoc(string1,string2):\n",
    "    out=False\n",
    "    string1_len = np.size(string1)\n",
    "    for i in np.arange(0,np.size(string2)-string1_len+1):\n",
    "        if  np.array_equal(string1,string2[i:i+string1_len]):\n",
    "            out=True\n",
    "            break\n",
    "    return out\n",
    "\n",
    "\n",
    "BelongToVoc(np.array([0,3,1]),np.array([0,3,0,3,1,5,1]))"
   ]
  },
  {
   "cell_type": "code",
   "execution_count": 16,
   "metadata": {},
   "outputs": [
    {
     "data": {
      "text/plain": [
       "(1, 100)"
      ]
     },
     "execution_count": 16,
     "metadata": {},
     "output_type": "execute_result"
    }
   ],
   "source": [
    "\n",
    "a = scio.loadmat('a.mat')\n",
    "a = a['a']\n",
    "a.shape"
   ]
  },
  {
   "cell_type": "code",
   "execution_count": 22,
   "metadata": {},
   "outputs": [
    {
     "data": {
      "text/plain": [
       "-0.03522092716368637"
      ]
     },
     "execution_count": 22,
     "metadata": {},
     "output_type": "execute_result"
    }
   ],
   "source": [
    "a = np.squeeze(a)\n",
    "a.shape\n",
    "a[0]"
   ]
  },
  {
   "cell_type": "code",
   "execution_count": 2,
   "metadata": {},
   "outputs": [
    {
     "data": {
      "text/plain": [
       "0.07042487561161215"
      ]
     },
     "execution_count": 2,
     "metadata": {},
     "output_type": "execute_result"
    }
   ],
   "source": [
    "P1 = np.array([2/3,1/6,1/6])\n",
    "P2 = np.array([2/3,2/6])\n",
    "a = np.random.choice(3,10000,p=P1)\n",
    "b = np.random.choice(2,10000,p=P2)\n",
    "CombinedSignal = a * 2 + b\n",
    "# ComplexityInformationMeasures.LZC1(CombinedSignal,3)\n",
    "ComplexityInformationMeasures.MutualInformation(a,b,3,2)\n"
   ]
  },
  {
   "cell_type": "code",
   "execution_count": 24,
   "metadata": {},
   "outputs": [
    {
     "data": {
      "text/plain": [
       "0.6435483486428867"
      ]
     },
     "execution_count": 24,
     "metadata": {},
     "output_type": "execute_result"
    }
   ],
   "source": [
    "1.02/np.log2(3)"
   ]
  },
  {
   "cell_type": "code",
   "execution_count": 34,
   "metadata": {},
   "outputs": [
    {
     "name": "stdout",
     "output_type": "stream",
     "text": [
      "2.169925001442312\n",
      "1.584962500721156\n"
     ]
    }
   ],
   "source": [
    "\n",
    "\n",
    "print(np.sum(-P1*np.log2(P1))+ np.sum(-P2*np.log2(P2)))\n",
    "print(np.log2(3))"
   ]
  },
  {
   "cell_type": "code",
   "execution_count": 4,
   "metadata": {},
   "outputs": [
    {
     "data": {
      "text/plain": [
       "True"
      ]
     },
     "execution_count": 4,
     "metadata": {},
     "output_type": "execute_result"
    }
   ],
   "source": [
    "ComplexityInformationMeasures.FastBelongToVoc([4,0,0,1,1,1,1,1,1,0,1,1,0,1,1],[4,0,0,1])"
   ]
  }
 ],
 "metadata": {
  "kernelspec": {
   "display_name": "Python 3.9.7 ('neuroscience')",
   "language": "python",
   "name": "python3"
  },
  "language_info": {
   "codemirror_mode": {
    "name": "ipython",
    "version": 3
   },
   "file_extension": ".py",
   "mimetype": "text/x-python",
   "name": "python",
   "nbconvert_exporter": "python",
   "pygments_lexer": "ipython3",
   "version": "3.9.16"
  },
  "orig_nbformat": 4,
  "vscode": {
   "interpreter": {
    "hash": "9b90f58838627ae9536bc45b395542ea55889f7ccf51a116a257daff08c3937e"
   }
  }
 },
 "nbformat": 4,
 "nbformat_minor": 2
}
